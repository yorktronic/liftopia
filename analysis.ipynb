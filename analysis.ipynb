{
 "cells": [
  {
   "cell_type": "code",
   "execution_count": 272,
   "metadata": {
    "collapsed": true
   },
   "outputs": [],
   "source": [
    "import pandas\n",
    "import csv\n",
    "import re\n",
    "import statistics"
   ]
  },
  {
   "cell_type": "markdown",
   "metadata": {},
   "source": [
    "# Data Preparation"
   ]
  },
  {
   "cell_type": "markdown",
   "metadata": {},
   "source": [
    "### MSA and Major MSA population totals"
   ]
  },
  {
   "cell_type": "code",
   "execution_count": 197,
   "metadata": {
    "collapsed": false
   },
   "outputs": [],
   "source": [
    "msa = {}\n",
    "with open('assignment/MSA.csv') as csvfile:\n",
    "    content = csv.reader(csvfile, delimiter=',')\n",
    "    firstline = True\n",
    "    for row in content:\n",
    "        if firstline:\n",
    "            firstline = False\n",
    "            continue\n",
    "        # make sure zip code is appropriate length before adding to dict\n",
    "        else:\n",
    "            z = add_leading_zeros(row[0])\n",
    "            msa[z] = {'state': row[1], 'name': row[2]}"
   ]
  },
  {
   "cell_type": "code",
   "execution_count": 118,
   "metadata": {
    "collapsed": true
   },
   "outputs": [],
   "source": [
    "# creating a dict with the MSA name as key and population as value\n",
    "msa_population_totals = {}\n",
    "\n",
    "with open('assignment/major_msa_population_totals.csv') as csvfile:\n",
    "    content = csv.reader(csvfile, delimiter=',')\n",
    "    for row in content:\n",
    "        msa_population_totals[row[0]] = int(row[1].replace(',',''))"
   ]
  },
  {
   "cell_type": "markdown",
   "metadata": {},
   "source": [
    "### Zip Code Data"
   ]
  },
  {
   "cell_type": "markdown",
   "metadata": {},
   "source": [
    "The python zipcode library does not contain a complete list of zipcodes, so I downloaded a complete list from https://www.aggdata.com/node/86"
   ]
  },
  {
   "cell_type": "code",
   "execution_count": 156,
   "metadata": {
    "collapsed": false
   },
   "outputs": [],
   "source": [
    "zipcode_data = {}\n",
    "with open('us_postal_codes.csv') as csvfile:\n",
    "    content = csv.reader(csvfile, delimiter=',')\n",
    "    firstline = True\n",
    "    for row in content:\n",
    "        if firstline:\n",
    "            firstline = False\n",
    "            continue\n",
    "        else:\n",
    "            zipcode = row[0]\n",
    "            city = row[1]\n",
    "            state = row[2]\n",
    "            state_short = row[3]\n",
    "            county = row[4]\n",
    "            lat = row[5]\n",
    "            long = row[6]\n",
    "            \n",
    "            zipcode_data[zipcode] = {'city': city, 'state': state, 'state_short': state_short, \n",
    "                                     'county': county, 'latitude': lat, 'longitude': long}"
   ]
  },
  {
   "cell_type": "markdown",
   "metadata": {},
   "source": [
    "### Guest Days"
   ]
  },
  {
   "cell_type": "markdown",
   "metadata": {},
   "source": [
    "There are cases of missing data and cases in which certain data elements are not in the correct columns in the supplied CSV. Below are a few functions I wrote to extract and sanity check data from Guest Days.csv. Ultimately I create two lists, one containing US Guest Days and the other containing all other entries (international customers, US rows that either don't have a zip code at all or the zip code isn't valid) is saved to a separate list for further cleaning."
   ]
  },
  {
   "cell_type": "code",
   "execution_count": 233,
   "metadata": {
    "collapsed": false
   },
   "outputs": [],
   "source": [
    "def clean_guestdays(row):\n",
    "### takes in a single row from the guest_days csv and returns zipcode, ski_days, and booking_window\n",
    "\n",
    "    # check if the zip code is a valid US zip code\n",
    "    valid_zip = False\n",
    "    z = get_zipcode(row)\n",
    "    \n",
    "    if z in zipcode_data:\n",
    "        valid_zip = True\n",
    "    \n",
    "    # ski days and booking window\n",
    "    booking_window = None\n",
    "    ski_days = row[-1]\n",
    "    if ski_days:\n",
    "        booking_window = row[-2] # if ski_days is present, booking_window is the second to last value in the row\n",
    "    else:\n",
    "        ski_days = row[-2] # otherwise, assume booking_window is missing\n",
    "    \n",
    "    if valid_zip:\n",
    "        return True, [z, ski_days, booking_window]\n",
    "    else:\n",
    "        return False, row"
   ]
  },
  {
   "cell_type": "code",
   "execution_count": 234,
   "metadata": {
    "collapsed": true
   },
   "outputs": [],
   "source": [
    "def get_zipcode(row):\n",
    "### Parses a row from guest_days to extract the best candidate for a zipcode\n",
    "    match = re.search('(\\d{5})([- ])?(\\d{4})?', ' '.join(row))\n",
    "    \n",
    "    if match:\n",
    "        # convert to string\n",
    "        match = match.group(1)\n",
    "    else:\n",
    "        # do more work\n",
    "        possible_zipcode = None\n",
    "        minimum_zipcode = 210 # lowest zipcode in the US\n",
    "        \n",
    "        for i in row:\n",
    "            # the regex expression should've caught any 5-digit or 5-plus-4 digit zip codes\n",
    "            # a non-match is either not present, not a US zip, or is 3 or 4 digits\n",
    "            digits = len(i)\n",
    "            if 2 < digits < 5:\n",
    "                try:\n",
    "                    possible_zipcode = int(i)\n",
    "                except ValueError:\n",
    "                    pass\n",
    "\n",
    "            if possible_zipcode:\n",
    "                if possible_zipcode >= minimum_zipcode and possible_zipcode != 1000:\n",
    "                    # there's a single false positive w/ zipcode 1000\n",
    "                    match = str(possible_zipcode)\n",
    "                    match = add_leading_zeros(match)\n",
    "    \n",
    "    return match"
   ]
  },
  {
   "cell_type": "code",
   "execution_count": 235,
   "metadata": {
    "collapsed": true
   },
   "outputs": [],
   "source": [
    "def add_leading_zeros(z):\n",
    "### Adds appropriate amount of leading zeros to zipcode\n",
    "    zeroes = {1: 4, 2: 3, 3: 2, 4: 1, 5: 0}\n",
    "    return zeroes[len(z)] * '0' + z"
   ]
  },
  {
   "cell_type": "code",
   "execution_count": 236,
   "metadata": {
    "collapsed": false
   },
   "outputs": [],
   "source": [
    "guest_days_clean = []\n",
    "guest_days_dirty = []\n",
    "\n",
    "with open('assignment/guest_days.csv', newline='') as gd:\n",
    "    reader = csv.reader(gd, delimiter=',')\n",
    "    for row in reader:\n",
    "        result = clean_guestdays(row)\n",
    "        if result[0]:\n",
    "            guest_days_clean.append(result[1])\n",
    "        else:\n",
    "            guest_days_dirty.append(result[1])"
   ]
  },
  {
   "cell_type": "markdown",
   "metadata": {},
   "source": [
    "## Check data loss"
   ]
  },
  {
   "cell_type": "markdown",
   "metadata": {},
   "source": [
    "I filtered the data, so let's see how much was excluded and browse the excluded data"
   ]
  },
  {
   "cell_type": "code",
   "execution_count": 237,
   "metadata": {
    "collapsed": false
   },
   "outputs": [],
   "source": [
    "loss = 1 - len(guest_days_clean) / float(len(guest_days_clean) + len(guest_days_dirty))"
   ]
  },
  {
   "cell_type": "code",
   "execution_count": 238,
   "metadata": {
    "collapsed": false
   },
   "outputs": [
    {
     "data": {
      "text/plain": [
       "6.825587377808262"
      ]
     },
     "execution_count": 238,
     "metadata": {},
     "output_type": "execute_result"
    }
   ],
   "source": [
    "loss * 100 # percentage of total rows dropped"
   ]
  },
  {
   "cell_type": "code",
   "execution_count": 434,
   "metadata": {
    "collapsed": false
   },
   "outputs": [],
   "source": [
    "guest_days_dirty = guest_days_dirty[1:] # dropping the header row"
   ]
  },
  {
   "cell_type": "markdown",
   "metadata": {},
   "source": [
    "Browsing the \"dirty\" guest days, we can see that most of them are international, though some are in the United States but were dropped because a valid zip code was not provided."
   ]
  },
  {
   "cell_type": "markdown",
   "metadata": {},
   "source": [
    "Now, let's see the total percentage of guest days dropped"
   ]
  },
  {
   "cell_type": "code",
   "execution_count": 240,
   "metadata": {
    "collapsed": false
   },
   "outputs": [],
   "source": [
    "total_clean_guestdays = 0\n",
    "total_dirty_guestdays = 0\n",
    "\n",
    "for row in guest_days_clean:\n",
    "    total_clean_guestdays += int(row[1])\n",
    "\n",
    "for row in guest_days_dirty:\n",
    "    # guest_days is either the last or second to last entry in each row\n",
    "    try:\n",
    "        guest_days = int(row[-1])\n",
    "    except ValueError:\n",
    "        guest_days = int(row[-2])\n",
    "    \n",
    "    total_dirty_guestdays += guest_days"
   ]
  },
  {
   "cell_type": "code",
   "execution_count": 241,
   "metadata": {
    "collapsed": false
   },
   "outputs": [
    {
     "data": {
      "text/plain": [
       "27422"
      ]
     },
     "execution_count": 241,
     "metadata": {},
     "output_type": "execute_result"
    }
   ],
   "source": [
    "total_clean_guestdays"
   ]
  },
  {
   "cell_type": "code",
   "execution_count": 242,
   "metadata": {
    "collapsed": false
   },
   "outputs": [
    {
     "data": {
      "text/plain": [
       "2075"
      ]
     },
     "execution_count": 242,
     "metadata": {},
     "output_type": "execute_result"
    }
   ],
   "source": [
    "total_dirty_guestdays"
   ]
  },
  {
   "cell_type": "code",
   "execution_count": 243,
   "metadata": {
    "collapsed": false
   },
   "outputs": [
    {
     "data": {
      "text/plain": [
       "7.034613689527747"
      ]
     },
     "execution_count": 243,
     "metadata": {},
     "output_type": "execute_result"
    }
   ],
   "source": [
    "loss_guestdays = 1 - total_clean_guestdays / float(total_clean_guestdays + total_dirty_guestdays)\n",
    "loss_guestdays * 100"
   ]
  },
  {
   "cell_type": "markdown",
   "metadata": {},
   "source": [
    "### Create DataFrames"
   ]
  },
  {
   "cell_type": "markdown",
   "metadata": {},
   "source": [
    "Since there are often multiple rows per zip code, and differing values of \"booking_window\" across rows with the same zip code, we'll need to summarize booking window. Complicating this is the \"15+ Days\" value that can occur in booking_window. Since the other possible values are either discrete (\"02 Days\") or a range, I'll aggregate the data and find an approximate median for booking_window. The values that are ranges run from `x` to `2x - 1`, so I'm taking the liberty of assuming that \"15+ Days\" is actually a range of \"15-29 Days\". I ended up being unable to use the booking window data because I found out later that it was missing from enough rows to where I felt its use would be too imprecise. "
   ]
  },
  {
   "cell_type": "code",
   "execution_count": 280,
   "metadata": {
    "collapsed": false
   },
   "outputs": [],
   "source": [
    "booking_window_map = {'00 Same Day': 0,\n",
    "                      '01 Day': 1, \n",
    "                      '02 Days': 2, \n",
    "                      '03 Days': 3, \n",
    "                      '04-7 Days': statistics.median([4,5,6,7]), \n",
    "                      '08-14 Days': statistics.median([8,9,10,11,12,13,14]),\n",
    "                      '15+ Days': statistics.median([15,16,17,18,19,20,21,22,23,24,25,26,27,28,29])}"
   ]
  },
  {
   "cell_type": "code",
   "execution_count": 281,
   "metadata": {
    "collapsed": false
   },
   "outputs": [
    {
     "data": {
      "text/plain": [
       "{'00 Same Day': 0,\n",
       " '01 Day': 1,\n",
       " '02 Days': 2,\n",
       " '03 Days': 3,\n",
       " '04-7 Days': 5.5,\n",
       " '08-14 Days': 11,\n",
       " '15+ Days': 22}"
      ]
     },
     "execution_count": 281,
     "metadata": {},
     "output_type": "execute_result"
    }
   ],
   "source": [
    "booking_window_map"
   ]
  },
  {
   "cell_type": "markdown",
   "metadata": {},
   "source": [
    "Now, I'll rebuid guest_days_clean to only contain a single entry per zip code before importing it in to pandas"
   ]
  },
  {
   "cell_type": "code",
   "execution_count": 300,
   "metadata": {
    "collapsed": false
   },
   "outputs": [],
   "source": [
    "guest_days_clean_unique = {}\n",
    "for row in guest_days_clean:\n",
    "    # If booking window is present, use it, otherwise don't\n",
    "    if row[2]:\n",
    "        booking_window = booking_window_map[row[2]]\n",
    "    else:\n",
    "        booking_window = 0\n",
    "        \n",
    "    if row[0] not in guest_days_clean_unique:\n",
    "        guest_days_clean_unique[row[0]] = {'guest_days': float(row[1]), 'avg_booking_window': booking_window * float(row[1])}\n",
    "    else:\n",
    "        guest_days_clean_unique[row[0]]['guest_days'] += float(row[1])\n",
    "        guest_days_clean_unique[row[0]]['avg_booking_window'] += booking_window * float(row[1])"
   ]
  },
  {
   "cell_type": "markdown",
   "metadata": {},
   "source": [
    "Now I'll adjust the booking_window values to be averaged by the number of guest_days per zip"
   ]
  },
  {
   "cell_type": "code",
   "execution_count": 302,
   "metadata": {
    "collapsed": false
   },
   "outputs": [],
   "source": [
    "for z in guest_days_clean_unique:\n",
    "    guest_days_clean_unique[z]['avg_booking_window'] = guest_days_clean_unique[z]['avg_booking_window'] / guest_days_clean_unique[z]['guest_days']"
   ]
  },
  {
   "cell_type": "markdown",
   "metadata": {},
   "source": [
    "Flatten guest_days_clean_uniqe to import into pandas"
   ]
  },
  {
   "cell_type": "code",
   "execution_count": 315,
   "metadata": {
    "collapsed": true
   },
   "outputs": [],
   "source": [
    "guest_days = []\n",
    "for z in guest_days_clean_unique:\n",
    "    guest_days.append([z,  guest_days_clean_unique[z]['guest_days'], guest_days_clean_unique[z]['avg_booking_window']])"
   ]
  },
  {
   "cell_type": "code",
   "execution_count": 317,
   "metadata": {
    "collapsed": true
   },
   "outputs": [],
   "source": [
    "guest_days = pandas.DataFrame(data=guest_days, columns=['zip_code', 'guest_days', 'avg_booking_window'])"
   ]
  },
  {
   "cell_type": "markdown",
   "metadata": {},
   "source": [
    "Now I'll incorporate the data for each zip code"
   ]
  },
  {
   "cell_type": "code",
   "execution_count": 319,
   "metadata": {
    "collapsed": true
   },
   "outputs": [],
   "source": [
    "def get_zipcode_data(z):\n",
    "    zd = zipcode_data[z]\n",
    "    return zd\n",
    "\n",
    "def get_city(zd):\n",
    "    return zd['city']\n",
    "\n",
    "def get_state(zd):\n",
    "    return zd['state']\n",
    "\n",
    "def get_state_short(zd):\n",
    "    return zd['state_short']\n",
    "\n",
    "def get_county(zd):\n",
    "    return zd['county']\n",
    "\n",
    "def get_latitude(zd):\n",
    "    return zd['latitude']\n",
    "\n",
    "def get_longitude(zd):\n",
    "    return zd['longitude']"
   ]
  },
  {
   "cell_type": "code",
   "execution_count": 320,
   "metadata": {
    "collapsed": false
   },
   "outputs": [],
   "source": [
    "guest_days['city'] = guest_days['zip_code'].apply(get_zipcode_data).apply(get_city)\n",
    "guest_days['state'] = guest_days['zip_code'].apply(get_zipcode_data).apply(get_state)\n",
    "guest_days['state_short'] = guest_days['zip_code'].apply(get_zipcode_data).apply(get_state_short)\n",
    "guest_days['county'] = guest_days['zip_code'].apply(get_zipcode_data).apply(get_county)\n",
    "guest_days['latitude'] = guest_days['zip_code'].apply(get_zipcode_data).apply(get_latitude)\n",
    "guest_days['longitude'] = guest_days['zip_code'].apply(get_zipcode_data).apply(get_longitude)"
   ]
  },
  {
   "cell_type": "code",
   "execution_count": 438,
   "metadata": {
    "collapsed": false
   },
   "outputs": [
    {
     "data": {
      "text/html": [
       "<div>\n",
       "<table border=\"1\" class=\"dataframe\">\n",
       "  <thead>\n",
       "    <tr style=\"text-align: right;\">\n",
       "      <th></th>\n",
       "      <th>zip_code</th>\n",
       "      <th>guest_days</th>\n",
       "      <th>avg_booking_window</th>\n",
       "      <th>city</th>\n",
       "      <th>state</th>\n",
       "      <th>state_short</th>\n",
       "      <th>county</th>\n",
       "      <th>latitude</th>\n",
       "      <th>longitude</th>\n",
       "      <th>msa</th>\n",
       "      <th>population</th>\n",
       "    </tr>\n",
       "  </thead>\n",
       "  <tbody>\n",
       "    <tr>\n",
       "      <th>0</th>\n",
       "      <td>01033</td>\n",
       "      <td>6.0</td>\n",
       "      <td>22.0</td>\n",
       "      <td>Granby</td>\n",
       "      <td>Massachusetts</td>\n",
       "      <td>MA</td>\n",
       "      <td>Hampshire</td>\n",
       "      <td>42.2557</td>\n",
       "      <td>-72.52</td>\n",
       "      <td>Springfield, MA MSA</td>\n",
       "      <td>6227</td>\n",
       "    </tr>\n",
       "    <tr>\n",
       "      <th>1</th>\n",
       "      <td>01057</td>\n",
       "      <td>1.0</td>\n",
       "      <td>22.0</td>\n",
       "      <td>Monson</td>\n",
       "      <td>Massachusetts</td>\n",
       "      <td>MA</td>\n",
       "      <td>Hampden</td>\n",
       "      <td>42.101</td>\n",
       "      <td>-72.3196</td>\n",
       "      <td>Springfield, MA MSA</td>\n",
       "      <td>8534</td>\n",
       "    </tr>\n",
       "    <tr>\n",
       "      <th>2</th>\n",
       "      <td>01060</td>\n",
       "      <td>3.0</td>\n",
       "      <td>11.0</td>\n",
       "      <td>Northampton</td>\n",
       "      <td>Massachusetts</td>\n",
       "      <td>MA</td>\n",
       "      <td>Hampshire</td>\n",
       "      <td>42.3223</td>\n",
       "      <td>-72.6313</td>\n",
       "      <td>Springfield, MA MSA</td>\n",
       "      <td>15284</td>\n",
       "    </tr>\n",
       "    <tr>\n",
       "      <th>3</th>\n",
       "      <td>01082</td>\n",
       "      <td>1.0</td>\n",
       "      <td>22.0</td>\n",
       "      <td>Ware</td>\n",
       "      <td>Massachusetts</td>\n",
       "      <td>MA</td>\n",
       "      <td>Hampshire</td>\n",
       "      <td>42.2618</td>\n",
       "      <td>-72.2583</td>\n",
       "      <td>Springfield, MA MSA</td>\n",
       "      <td>10322</td>\n",
       "    </tr>\n",
       "    <tr>\n",
       "      <th>4</th>\n",
       "      <td>01085</td>\n",
       "      <td>1.0</td>\n",
       "      <td>22.0</td>\n",
       "      <td>Westfield</td>\n",
       "      <td>Massachusetts</td>\n",
       "      <td>MA</td>\n",
       "      <td>Hampden</td>\n",
       "      <td>42.1251</td>\n",
       "      <td>-72.7495</td>\n",
       "      <td>Springfield, MA MSA</td>\n",
       "      <td>41117</td>\n",
       "    </tr>\n",
       "  </tbody>\n",
       "</table>\n",
       "</div>"
      ],
      "text/plain": [
       "  zip_code  guest_days  avg_booking_window         city          state  \\\n",
       "0    01033         6.0                22.0       Granby  Massachusetts   \n",
       "1    01057         1.0                22.0       Monson  Massachusetts   \n",
       "2    01060         3.0                11.0  Northampton  Massachusetts   \n",
       "3    01082         1.0                22.0         Ware  Massachusetts   \n",
       "4    01085         1.0                22.0    Westfield  Massachusetts   \n",
       "\n",
       "  state_short     county latitude longitude                  msa population  \n",
       "0          MA  Hampshire  42.2557    -72.52  Springfield, MA MSA       6227  \n",
       "1          MA    Hampden   42.101  -72.3196  Springfield, MA MSA       8534  \n",
       "2          MA  Hampshire  42.3223  -72.6313  Springfield, MA MSA      15284  \n",
       "3          MA  Hampshire  42.2618  -72.2583  Springfield, MA MSA      10322  \n",
       "4          MA    Hampden  42.1251  -72.7495  Springfield, MA MSA      41117  "
      ]
     },
     "execution_count": 438,
     "metadata": {},
     "output_type": "execute_result"
    }
   ],
   "source": [
    "guest_days.head()"
   ]
  },
  {
   "cell_type": "markdown",
   "metadata": {},
   "source": [
    "# Analysis"
   ]
  },
  {
   "cell_type": "markdown",
   "metadata": {},
   "source": [
    "Incorporating MSA statistics"
   ]
  },
  {
   "cell_type": "code",
   "execution_count": 335,
   "metadata": {
    "collapsed": false
   },
   "outputs": [],
   "source": [
    "def get_msa(z):\n",
    "    return msa[z]['name']\n",
    "\n",
    "guest_days['msa'] = guest_days['zip_code'].apply(get_msa)"
   ]
  },
  {
   "cell_type": "code",
   "execution_count": 439,
   "metadata": {
    "collapsed": false
   },
   "outputs": [
    {
     "data": {
      "text/html": [
       "<div>\n",
       "<table border=\"1\" class=\"dataframe\">\n",
       "  <thead>\n",
       "    <tr style=\"text-align: right;\">\n",
       "      <th></th>\n",
       "      <th>zip_code</th>\n",
       "      <th>guest_days</th>\n",
       "      <th>avg_booking_window</th>\n",
       "      <th>city</th>\n",
       "      <th>state</th>\n",
       "      <th>state_short</th>\n",
       "      <th>county</th>\n",
       "      <th>latitude</th>\n",
       "      <th>longitude</th>\n",
       "      <th>msa</th>\n",
       "      <th>population</th>\n",
       "    </tr>\n",
       "  </thead>\n",
       "  <tbody>\n",
       "    <tr>\n",
       "      <th>0</th>\n",
       "      <td>01033</td>\n",
       "      <td>6.0</td>\n",
       "      <td>22.0</td>\n",
       "      <td>Granby</td>\n",
       "      <td>Massachusetts</td>\n",
       "      <td>MA</td>\n",
       "      <td>Hampshire</td>\n",
       "      <td>42.2557</td>\n",
       "      <td>-72.52</td>\n",
       "      <td>Springfield, MA MSA</td>\n",
       "      <td>6227</td>\n",
       "    </tr>\n",
       "    <tr>\n",
       "      <th>1</th>\n",
       "      <td>01057</td>\n",
       "      <td>1.0</td>\n",
       "      <td>22.0</td>\n",
       "      <td>Monson</td>\n",
       "      <td>Massachusetts</td>\n",
       "      <td>MA</td>\n",
       "      <td>Hampden</td>\n",
       "      <td>42.101</td>\n",
       "      <td>-72.3196</td>\n",
       "      <td>Springfield, MA MSA</td>\n",
       "      <td>8534</td>\n",
       "    </tr>\n",
       "    <tr>\n",
       "      <th>2</th>\n",
       "      <td>01060</td>\n",
       "      <td>3.0</td>\n",
       "      <td>11.0</td>\n",
       "      <td>Northampton</td>\n",
       "      <td>Massachusetts</td>\n",
       "      <td>MA</td>\n",
       "      <td>Hampshire</td>\n",
       "      <td>42.3223</td>\n",
       "      <td>-72.6313</td>\n",
       "      <td>Springfield, MA MSA</td>\n",
       "      <td>15284</td>\n",
       "    </tr>\n",
       "    <tr>\n",
       "      <th>3</th>\n",
       "      <td>01082</td>\n",
       "      <td>1.0</td>\n",
       "      <td>22.0</td>\n",
       "      <td>Ware</td>\n",
       "      <td>Massachusetts</td>\n",
       "      <td>MA</td>\n",
       "      <td>Hampshire</td>\n",
       "      <td>42.2618</td>\n",
       "      <td>-72.2583</td>\n",
       "      <td>Springfield, MA MSA</td>\n",
       "      <td>10322</td>\n",
       "    </tr>\n",
       "    <tr>\n",
       "      <th>4</th>\n",
       "      <td>01085</td>\n",
       "      <td>1.0</td>\n",
       "      <td>22.0</td>\n",
       "      <td>Westfield</td>\n",
       "      <td>Massachusetts</td>\n",
       "      <td>MA</td>\n",
       "      <td>Hampden</td>\n",
       "      <td>42.1251</td>\n",
       "      <td>-72.7495</td>\n",
       "      <td>Springfield, MA MSA</td>\n",
       "      <td>41117</td>\n",
       "    </tr>\n",
       "  </tbody>\n",
       "</table>\n",
       "</div>"
      ],
      "text/plain": [
       "  zip_code  guest_days  avg_booking_window         city          state  \\\n",
       "0    01033         6.0                22.0       Granby  Massachusetts   \n",
       "1    01057         1.0                22.0       Monson  Massachusetts   \n",
       "2    01060         3.0                11.0  Northampton  Massachusetts   \n",
       "3    01082         1.0                22.0         Ware  Massachusetts   \n",
       "4    01085         1.0                22.0    Westfield  Massachusetts   \n",
       "\n",
       "  state_short     county latitude longitude                  msa population  \n",
       "0          MA  Hampshire  42.2557    -72.52  Springfield, MA MSA       6227  \n",
       "1          MA    Hampden   42.101  -72.3196  Springfield, MA MSA       8534  \n",
       "2          MA  Hampshire  42.3223  -72.6313  Springfield, MA MSA      15284  \n",
       "3          MA  Hampshire  42.2618  -72.2583  Springfield, MA MSA      10322  \n",
       "4          MA    Hampden  42.1251  -72.7495  Springfield, MA MSA      41117  "
      ]
     },
     "execution_count": 439,
     "metadata": {},
     "output_type": "execute_result"
    }
   ],
   "source": [
    "guest_days.head()"
   ]
  },
  {
   "cell_type": "markdown",
   "metadata": {},
   "source": [
    "Unfortunately, the major msa population totals provided don't cover all of the MSA's in the guest days dataset. That's okay, though, because I have the internet."
   ]
  },
  {
   "cell_type": "code",
   "execution_count": 339,
   "metadata": {
    "collapsed": false
   },
   "outputs": [],
   "source": [
    "pop = {}\n",
    "with open('2010_census_population.csv') as csvfile:\n",
    "    reader = csv.reader(csvfile, delimiter=',')\n",
    "    first_row = True\n",
    "    for row in reader:\n",
    "        if first_row:\n",
    "            first_row = False\n",
    "            continue\n",
    "        else:\n",
    "            pop[row[0]] = row[1]\n",
    "            "
   ]
  },
  {
   "cell_type": "markdown",
   "metadata": {},
   "source": [
    "Add population data to dataframe, and then weight guest_days by population"
   ]
  },
  {
   "cell_type": "code",
   "execution_count": 350,
   "metadata": {
    "collapsed": false
   },
   "outputs": [],
   "source": [
    "def get_population(z):\n",
    "    if z in pop:\n",
    "        return pop[z]\n",
    "    else:\n",
    "        return None\n",
    "    \n",
    "guest_days['population'] = guest_days['zip_code'].apply(get_population)"
   ]
  },
  {
   "cell_type": "code",
   "execution_count": 346,
   "metadata": {
    "collapsed": false
   },
   "outputs": [],
   "source": [
    "matches = 0\n",
    "for p in guest_days['population']:\n",
    "    if p:\n",
    "        matches += 1"
   ]
  },
  {
   "cell_type": "markdown",
   "metadata": {},
   "source": [
    "Export data to CSV to generate a heatmap"
   ]
  },
  {
   "cell_type": "code",
   "execution_count": 353,
   "metadata": {
    "collapsed": false
   },
   "outputs": [
    {
     "data": {
      "text/plain": [
       "79"
      ]
     },
     "execution_count": 353,
     "metadata": {},
     "output_type": "execute_result"
    }
   ],
   "source": [
    "len(guest_days) - matches"
   ]
  },
  {
   "cell_type": "markdown",
   "metadata": {},
   "source": [
    "79 zip codes did not match the ZCTA codes provided by Census, dropping them"
   ]
  },
  {
   "cell_type": "code",
   "execution_count": 359,
   "metadata": {
    "collapsed": false
   },
   "outputs": [],
   "source": [
    "gd = guest_days.dropna(subset=['population'])"
   ]
  },
  {
   "cell_type": "markdown",
   "metadata": {},
   "source": [
    "What zip codes have the best market penetration (guest days / population)?"
   ]
  },
  {
   "cell_type": "code",
   "execution_count": 363,
   "metadata": {
    "collapsed": false
   },
   "outputs": [
    {
     "name": "stderr",
     "output_type": "stream",
     "text": [
      "C:\\Anaconda\\envs\\py36\\lib\\site-packages\\ipykernel\\__main__.py:1: SettingWithCopyWarning: \n",
      "A value is trying to be set on a copy of a slice from a DataFrame.\n",
      "Try using .loc[row_indexer,col_indexer] = value instead\n",
      "\n",
      "See the caveats in the documentation: http://pandas.pydata.org/pandas-docs/stable/indexing.html#indexing-view-versus-copy\n",
      "  if __name__ == '__main__':\n"
     ]
    }
   ],
   "source": [
    "gd['population'] = pandas.to_numeric(gd['population'], errors='coerce')"
   ]
  },
  {
   "cell_type": "code",
   "execution_count": 368,
   "metadata": {
    "collapsed": false
   },
   "outputs": [
    {
     "name": "stderr",
     "output_type": "stream",
     "text": [
      "C:\\Anaconda\\envs\\py36\\lib\\site-packages\\ipykernel\\__main__.py:1: SettingWithCopyWarning: \n",
      "A value is trying to be set on a copy of a slice from a DataFrame.\n",
      "Try using .loc[row_indexer,col_indexer] = value instead\n",
      "\n",
      "See the caveats in the documentation: http://pandas.pydata.org/pandas-docs/stable/indexing.html#indexing-view-versus-copy\n",
      "  if __name__ == '__main__':\n"
     ]
    }
   ],
   "source": [
    "gd['market_penetration'] = gd['guest_days'] / gd['population']"
   ]
  },
  {
   "cell_type": "code",
   "execution_count": 440,
   "metadata": {
    "collapsed": false
   },
   "outputs": [
    {
     "data": {
      "text/html": [
       "<div>\n",
       "<table border=\"1\" class=\"dataframe\">\n",
       "  <thead>\n",
       "    <tr style=\"text-align: right;\">\n",
       "      <th></th>\n",
       "      <th>zip_code</th>\n",
       "      <th>guest_days</th>\n",
       "      <th>avg_booking_window</th>\n",
       "      <th>city</th>\n",
       "      <th>state</th>\n",
       "      <th>state_short</th>\n",
       "      <th>county</th>\n",
       "      <th>latitude</th>\n",
       "      <th>longitude</th>\n",
       "      <th>msa</th>\n",
       "      <th>population</th>\n",
       "      <th>market_penetration</th>\n",
       "      <th>mp_scaled</th>\n",
       "    </tr>\n",
       "  </thead>\n",
       "  <tbody>\n",
       "    <tr>\n",
       "      <th>0</th>\n",
       "      <td>01033</td>\n",
       "      <td>6.0</td>\n",
       "      <td>22.0</td>\n",
       "      <td>Granby</td>\n",
       "      <td>Massachusetts</td>\n",
       "      <td>MA</td>\n",
       "      <td>Hampshire</td>\n",
       "      <td>42.2557</td>\n",
       "      <td>-72.52</td>\n",
       "      <td>Springfield, MA MSA</td>\n",
       "      <td>6227</td>\n",
       "      <td>0.000964</td>\n",
       "      <td>0.004125</td>\n",
       "    </tr>\n",
       "    <tr>\n",
       "      <th>1</th>\n",
       "      <td>01057</td>\n",
       "      <td>1.0</td>\n",
       "      <td>22.0</td>\n",
       "      <td>Monson</td>\n",
       "      <td>Massachusetts</td>\n",
       "      <td>MA</td>\n",
       "      <td>Hampden</td>\n",
       "      <td>42.101</td>\n",
       "      <td>-72.3196</td>\n",
       "      <td>Springfield, MA MSA</td>\n",
       "      <td>8534</td>\n",
       "      <td>0.000117</td>\n",
       "      <td>0.000458</td>\n",
       "    </tr>\n",
       "    <tr>\n",
       "      <th>2</th>\n",
       "      <td>01060</td>\n",
       "      <td>3.0</td>\n",
       "      <td>11.0</td>\n",
       "      <td>Northampton</td>\n",
       "      <td>Massachusetts</td>\n",
       "      <td>MA</td>\n",
       "      <td>Hampshire</td>\n",
       "      <td>42.3223</td>\n",
       "      <td>-72.6313</td>\n",
       "      <td>Springfield, MA MSA</td>\n",
       "      <td>15284</td>\n",
       "      <td>0.000196</td>\n",
       "      <td>0.000800</td>\n",
       "    </tr>\n",
       "    <tr>\n",
       "      <th>3</th>\n",
       "      <td>01082</td>\n",
       "      <td>1.0</td>\n",
       "      <td>22.0</td>\n",
       "      <td>Ware</td>\n",
       "      <td>Massachusetts</td>\n",
       "      <td>MA</td>\n",
       "      <td>Hampshire</td>\n",
       "      <td>42.2618</td>\n",
       "      <td>-72.2583</td>\n",
       "      <td>Springfield, MA MSA</td>\n",
       "      <td>10322</td>\n",
       "      <td>0.000097</td>\n",
       "      <td>0.000370</td>\n",
       "    </tr>\n",
       "    <tr>\n",
       "      <th>4</th>\n",
       "      <td>01085</td>\n",
       "      <td>1.0</td>\n",
       "      <td>22.0</td>\n",
       "      <td>Westfield</td>\n",
       "      <td>Massachusetts</td>\n",
       "      <td>MA</td>\n",
       "      <td>Hampden</td>\n",
       "      <td>42.1251</td>\n",
       "      <td>-72.7495</td>\n",
       "      <td>Springfield, MA MSA</td>\n",
       "      <td>41117</td>\n",
       "      <td>0.000024</td>\n",
       "      <td>0.000055</td>\n",
       "    </tr>\n",
       "  </tbody>\n",
       "</table>\n",
       "</div>"
      ],
      "text/plain": [
       "  zip_code  guest_days  avg_booking_window         city          state  \\\n",
       "0    01033         6.0                22.0       Granby  Massachusetts   \n",
       "1    01057         1.0                22.0       Monson  Massachusetts   \n",
       "2    01060         3.0                11.0  Northampton  Massachusetts   \n",
       "3    01082         1.0                22.0         Ware  Massachusetts   \n",
       "4    01085         1.0                22.0    Westfield  Massachusetts   \n",
       "\n",
       "  state_short     county latitude longitude                  msa  population  \\\n",
       "0          MA  Hampshire  42.2557    -72.52  Springfield, MA MSA        6227   \n",
       "1          MA    Hampden   42.101  -72.3196  Springfield, MA MSA        8534   \n",
       "2          MA  Hampshire  42.3223  -72.6313  Springfield, MA MSA       15284   \n",
       "3          MA  Hampshire  42.2618  -72.2583  Springfield, MA MSA       10322   \n",
       "4          MA    Hampden  42.1251  -72.7495  Springfield, MA MSA       41117   \n",
       "\n",
       "   market_penetration  mp_scaled  \n",
       "0            0.000964   0.004125  \n",
       "1            0.000117   0.000458  \n",
       "2            0.000196   0.000800  \n",
       "3            0.000097   0.000370  \n",
       "4            0.000024   0.000055  "
      ]
     },
     "execution_count": 440,
     "metadata": {},
     "output_type": "execute_result"
    }
   ],
   "source": [
    "gd.head()"
   ]
  },
  {
   "cell_type": "markdown",
   "metadata": {},
   "source": [
    "Export to csv to create a heatmap"
   ]
  },
  {
   "cell_type": "code",
   "execution_count": 406,
   "metadata": {
    "collapsed": false
   },
   "outputs": [],
   "source": [
    "gd = gd.replace([np.inf, -np.inf], np.nan)\n",
    "gd = gd.dropna(subset=['market_penetration'])\n",
    "gd_trunc = gd\n",
    "drop_these = ['zip_code', 'guest_days', 'avg_booking_window', 'city', 'state', 'state_short', 'county', 'msa', 'population']\n",
    "for d in drop_these:\n",
    "    gd_trunc = gd_trunc.drop(d, 1)"
   ]
  },
  {
   "cell_type": "code",
   "execution_count": 441,
   "metadata": {
    "collapsed": false
   },
   "outputs": [
    {
     "data": {
      "text/html": [
       "<div>\n",
       "<table border=\"1\" class=\"dataframe\">\n",
       "  <thead>\n",
       "    <tr style=\"text-align: right;\">\n",
       "      <th></th>\n",
       "      <th>lat</th>\n",
       "      <th>lon</th>\n",
       "      <th>market_penetration</th>\n",
       "      <th>mp_scaled</th>\n",
       "    </tr>\n",
       "  </thead>\n",
       "  <tbody>\n",
       "    <tr>\n",
       "      <th>0</th>\n",
       "      <td>42.2557</td>\n",
       "      <td>-72.52</td>\n",
       "      <td>0.000964</td>\n",
       "      <td>0.004125</td>\n",
       "    </tr>\n",
       "    <tr>\n",
       "      <th>1</th>\n",
       "      <td>42.101</td>\n",
       "      <td>-72.3196</td>\n",
       "      <td>0.000117</td>\n",
       "      <td>0.000458</td>\n",
       "    </tr>\n",
       "    <tr>\n",
       "      <th>2</th>\n",
       "      <td>42.3223</td>\n",
       "      <td>-72.6313</td>\n",
       "      <td>0.000196</td>\n",
       "      <td>0.000800</td>\n",
       "    </tr>\n",
       "    <tr>\n",
       "      <th>3</th>\n",
       "      <td>42.2618</td>\n",
       "      <td>-72.2583</td>\n",
       "      <td>0.000097</td>\n",
       "      <td>0.000370</td>\n",
       "    </tr>\n",
       "    <tr>\n",
       "      <th>4</th>\n",
       "      <td>42.1251</td>\n",
       "      <td>-72.7495</td>\n",
       "      <td>0.000024</td>\n",
       "      <td>0.000055</td>\n",
       "    </tr>\n",
       "  </tbody>\n",
       "</table>\n",
       "</div>"
      ],
      "text/plain": [
       "       lat       lon  market_penetration  mp_scaled\n",
       "0  42.2557    -72.52            0.000964   0.004125\n",
       "1   42.101  -72.3196            0.000117   0.000458\n",
       "2  42.3223  -72.6313            0.000196   0.000800\n",
       "3  42.2618  -72.2583            0.000097   0.000370\n",
       "4  42.1251  -72.7495            0.000024   0.000055"
      ]
     },
     "execution_count": 441,
     "metadata": {},
     "output_type": "execute_result"
    }
   ],
   "source": [
    "gd_trunc.head()"
   ]
  },
  {
   "cell_type": "code",
   "execution_count": 408,
   "metadata": {
    "collapsed": false
   },
   "outputs": [],
   "source": [
    "gd_trunc.columns = ['lat', 'lon', 'market_penetration']"
   ]
  },
  {
   "cell_type": "code",
   "execution_count": 410,
   "metadata": {
    "collapsed": false
   },
   "outputs": [
    {
     "name": "stderr",
     "output_type": "stream",
     "text": [
      "C:\\Anaconda\\envs\\py36\\lib\\site-packages\\ipykernel\\__main__.py:4: FutureWarning: reshape is deprecated and will raise in a subsequent release. Please use .values.reshape(...) instead\n"
     ]
    }
   ],
   "source": [
    "# normalize the market penetration data for easier viewing\n",
    "from sklearn import preprocessing\n",
    "\n",
    "x = gd_trunc['market_penetration'].reshape(-1,1)\n",
    "min_max_scaler = preprocessing.MinMaxScaler()\n",
    "x_scaled = min_max_scaler.fit_transform(x)\n",
    "gd_trunc['mp_scaled'] = x_scaled"
   ]
  },
  {
   "cell_type": "code",
   "execution_count": 442,
   "metadata": {
    "collapsed": false
   },
   "outputs": [
    {
     "data": {
      "text/html": [
       "<div>\n",
       "<table border=\"1\" class=\"dataframe\">\n",
       "  <thead>\n",
       "    <tr style=\"text-align: right;\">\n",
       "      <th></th>\n",
       "      <th>lat</th>\n",
       "      <th>lon</th>\n",
       "      <th>market_penetration</th>\n",
       "      <th>mp_scaled</th>\n",
       "    </tr>\n",
       "  </thead>\n",
       "  <tbody>\n",
       "    <tr>\n",
       "      <th>0</th>\n",
       "      <td>42.2557</td>\n",
       "      <td>-72.52</td>\n",
       "      <td>0.000964</td>\n",
       "      <td>0.004125</td>\n",
       "    </tr>\n",
       "    <tr>\n",
       "      <th>1</th>\n",
       "      <td>42.101</td>\n",
       "      <td>-72.3196</td>\n",
       "      <td>0.000117</td>\n",
       "      <td>0.000458</td>\n",
       "    </tr>\n",
       "    <tr>\n",
       "      <th>2</th>\n",
       "      <td>42.3223</td>\n",
       "      <td>-72.6313</td>\n",
       "      <td>0.000196</td>\n",
       "      <td>0.000800</td>\n",
       "    </tr>\n",
       "    <tr>\n",
       "      <th>3</th>\n",
       "      <td>42.2618</td>\n",
       "      <td>-72.2583</td>\n",
       "      <td>0.000097</td>\n",
       "      <td>0.000370</td>\n",
       "    </tr>\n",
       "    <tr>\n",
       "      <th>4</th>\n",
       "      <td>42.1251</td>\n",
       "      <td>-72.7495</td>\n",
       "      <td>0.000024</td>\n",
       "      <td>0.000055</td>\n",
       "    </tr>\n",
       "  </tbody>\n",
       "</table>\n",
       "</div>"
      ],
      "text/plain": [
       "       lat       lon  market_penetration  mp_scaled\n",
       "0  42.2557    -72.52            0.000964   0.004125\n",
       "1   42.101  -72.3196            0.000117   0.000458\n",
       "2  42.3223  -72.6313            0.000196   0.000800\n",
       "3  42.2618  -72.2583            0.000097   0.000370\n",
       "4  42.1251  -72.7495            0.000024   0.000055"
      ]
     },
     "execution_count": 442,
     "metadata": {},
     "output_type": "execute_result"
    }
   ],
   "source": [
    "gd_trunc.head()"
   ]
  },
  {
   "cell_type": "code",
   "execution_count": 412,
   "metadata": {
    "collapsed": false
   },
   "outputs": [],
   "source": [
    "with open('gd.csv', 'w') as f:\n",
    "    gd_trunc.to_csv(f)"
   ]
  },
  {
   "cell_type": "code",
   "execution_count": 413,
   "metadata": {
    "collapsed": true
   },
   "outputs": [],
   "source": [
    "gd_trunc2 = gd"
   ]
  },
  {
   "cell_type": "code",
   "execution_count": 415,
   "metadata": {
    "collapsed": false
   },
   "outputs": [],
   "source": [
    "state_guest_days = gd_trunc2.groupby('state_short')['guest_days'].sum()\n",
    "state_populations = gd_trunc2.groupby('state_short')['population'].sum()"
   ]
  },
  {
   "cell_type": "code",
   "execution_count": 419,
   "metadata": {
    "collapsed": false
   },
   "outputs": [],
   "source": [
    "states = state_guest_days.keys()"
   ]
  },
  {
   "cell_type": "code",
   "execution_count": 423,
   "metadata": {
    "collapsed": false
   },
   "outputs": [],
   "source": [
    "state_penetration = pandas.concat([state_guest_days, state_populations], axis=1)"
   ]
  },
  {
   "cell_type": "code",
   "execution_count": null,
   "metadata": {
    "collapsed": true
   },
   "outputs": [],
   "source": []
  },
  {
   "cell_type": "code",
   "execution_count": 425,
   "metadata": {
    "collapsed": false
   },
   "outputs": [],
   "source": [
    "state_penetration['mp'] = state_penetration['guest_days'] / state_penetration['population']"
   ]
  },
  {
   "cell_type": "code",
   "execution_count": 428,
   "metadata": {
    "collapsed": false
   },
   "outputs": [],
   "source": [
    "state_penetration = state_penetration.drop('guest_days', 1)\n",
    "state_penetration = state_penetration.drop('population', 1)"
   ]
  },
  {
   "cell_type": "code",
   "execution_count": 429,
   "metadata": {
    "collapsed": false
   },
   "outputs": [
    {
     "data": {
      "text/html": [
       "<div>\n",
       "<table border=\"1\" class=\"dataframe\">\n",
       "  <thead>\n",
       "    <tr style=\"text-align: right;\">\n",
       "      <th></th>\n",
       "      <th>mp</th>\n",
       "    </tr>\n",
       "    <tr>\n",
       "      <th>state_short</th>\n",
       "      <th></th>\n",
       "    </tr>\n",
       "  </thead>\n",
       "  <tbody>\n",
       "    <tr>\n",
       "      <th>AK</th>\n",
       "      <td>0.000095</td>\n",
       "    </tr>\n",
       "    <tr>\n",
       "      <th>AL</th>\n",
       "      <td>0.000389</td>\n",
       "    </tr>\n",
       "    <tr>\n",
       "      <th>AR</th>\n",
       "      <td>0.000432</td>\n",
       "    </tr>\n",
       "    <tr>\n",
       "      <th>AZ</th>\n",
       "      <td>0.000208</td>\n",
       "    </tr>\n",
       "    <tr>\n",
       "      <th>CA</th>\n",
       "      <td>0.000291</td>\n",
       "    </tr>\n",
       "    <tr>\n",
       "      <th>CO</th>\n",
       "      <td>0.000150</td>\n",
       "    </tr>\n",
       "    <tr>\n",
       "      <th>CT</th>\n",
       "      <td>0.000332</td>\n",
       "    </tr>\n",
       "    <tr>\n",
       "      <th>DC</th>\n",
       "      <td>0.000484</td>\n",
       "    </tr>\n",
       "    <tr>\n",
       "      <th>DE</th>\n",
       "      <td>0.000162</td>\n",
       "    </tr>\n",
       "    <tr>\n",
       "      <th>FL</th>\n",
       "      <td>0.000368</td>\n",
       "    </tr>\n",
       "    <tr>\n",
       "      <th>GA</th>\n",
       "      <td>0.000275</td>\n",
       "    </tr>\n",
       "    <tr>\n",
       "      <th>HI</th>\n",
       "      <td>0.000294</td>\n",
       "    </tr>\n",
       "    <tr>\n",
       "      <th>IA</th>\n",
       "      <td>0.000442</td>\n",
       "    </tr>\n",
       "    <tr>\n",
       "      <th>ID</th>\n",
       "      <td>0.000155</td>\n",
       "    </tr>\n",
       "    <tr>\n",
       "      <th>IL</th>\n",
       "      <td>0.000382</td>\n",
       "    </tr>\n",
       "    <tr>\n",
       "      <th>IN</th>\n",
       "      <td>0.000314</td>\n",
       "    </tr>\n",
       "    <tr>\n",
       "      <th>KS</th>\n",
       "      <td>0.000268</td>\n",
       "    </tr>\n",
       "    <tr>\n",
       "      <th>KY</th>\n",
       "      <td>0.000286</td>\n",
       "    </tr>\n",
       "    <tr>\n",
       "      <th>LA</th>\n",
       "      <td>0.000500</td>\n",
       "    </tr>\n",
       "    <tr>\n",
       "      <th>MA</th>\n",
       "      <td>0.000290</td>\n",
       "    </tr>\n",
       "    <tr>\n",
       "      <th>MD</th>\n",
       "      <td>0.000336</td>\n",
       "    </tr>\n",
       "    <tr>\n",
       "      <th>ME</th>\n",
       "      <td>0.000463</td>\n",
       "    </tr>\n",
       "    <tr>\n",
       "      <th>MI</th>\n",
       "      <td>0.000318</td>\n",
       "    </tr>\n",
       "    <tr>\n",
       "      <th>MN</th>\n",
       "      <td>0.000292</td>\n",
       "    </tr>\n",
       "    <tr>\n",
       "      <th>MO</th>\n",
       "      <td>0.000470</td>\n",
       "    </tr>\n",
       "    <tr>\n",
       "      <th>MS</th>\n",
       "      <td>0.000382</td>\n",
       "    </tr>\n",
       "    <tr>\n",
       "      <th>MT</th>\n",
       "      <td>0.000123</td>\n",
       "    </tr>\n",
       "    <tr>\n",
       "      <th>NC</th>\n",
       "      <td>0.000315</td>\n",
       "    </tr>\n",
       "    <tr>\n",
       "      <th>NE</th>\n",
       "      <td>0.000284</td>\n",
       "    </tr>\n",
       "    <tr>\n",
       "      <th>NH</th>\n",
       "      <td>0.000442</td>\n",
       "    </tr>\n",
       "    <tr>\n",
       "      <th>NJ</th>\n",
       "      <td>0.000297</td>\n",
       "    </tr>\n",
       "    <tr>\n",
       "      <th>NM</th>\n",
       "      <td>0.000097</td>\n",
       "    </tr>\n",
       "    <tr>\n",
       "      <th>NV</th>\n",
       "      <td>0.000216</td>\n",
       "    </tr>\n",
       "    <tr>\n",
       "      <th>NY</th>\n",
       "      <td>0.000303</td>\n",
       "    </tr>\n",
       "    <tr>\n",
       "      <th>OH</th>\n",
       "      <td>0.000279</td>\n",
       "    </tr>\n",
       "    <tr>\n",
       "      <th>OK</th>\n",
       "      <td>0.000226</td>\n",
       "    </tr>\n",
       "    <tr>\n",
       "      <th>OR</th>\n",
       "      <td>0.000178</td>\n",
       "    </tr>\n",
       "    <tr>\n",
       "      <th>PA</th>\n",
       "      <td>0.000280</td>\n",
       "    </tr>\n",
       "    <tr>\n",
       "      <th>RI</th>\n",
       "      <td>0.000367</td>\n",
       "    </tr>\n",
       "    <tr>\n",
       "      <th>SC</th>\n",
       "      <td>0.000215</td>\n",
       "    </tr>\n",
       "    <tr>\n",
       "      <th>SD</th>\n",
       "      <td>0.000137</td>\n",
       "    </tr>\n",
       "    <tr>\n",
       "      <th>TN</th>\n",
       "      <td>0.000260</td>\n",
       "    </tr>\n",
       "    <tr>\n",
       "      <th>TX</th>\n",
       "      <td>0.000297</td>\n",
       "    </tr>\n",
       "    <tr>\n",
       "      <th>UT</th>\n",
       "      <td>0.000247</td>\n",
       "    </tr>\n",
       "    <tr>\n",
       "      <th>VA</th>\n",
       "      <td>0.000257</td>\n",
       "    </tr>\n",
       "    <tr>\n",
       "      <th>VT</th>\n",
       "      <td>0.000975</td>\n",
       "    </tr>\n",
       "    <tr>\n",
       "      <th>WA</th>\n",
       "      <td>0.000216</td>\n",
       "    </tr>\n",
       "    <tr>\n",
       "      <th>WI</th>\n",
       "      <td>0.000368</td>\n",
       "    </tr>\n",
       "    <tr>\n",
       "      <th>WV</th>\n",
       "      <td>0.000275</td>\n",
       "    </tr>\n",
       "    <tr>\n",
       "      <th>WY</th>\n",
       "      <td>0.000246</td>\n",
       "    </tr>\n",
       "  </tbody>\n",
       "</table>\n",
       "</div>"
      ],
      "text/plain": [
       "                   mp\n",
       "state_short          \n",
       "AK           0.000095\n",
       "AL           0.000389\n",
       "AR           0.000432\n",
       "AZ           0.000208\n",
       "CA           0.000291\n",
       "CO           0.000150\n",
       "CT           0.000332\n",
       "DC           0.000484\n",
       "DE           0.000162\n",
       "FL           0.000368\n",
       "GA           0.000275\n",
       "HI           0.000294\n",
       "IA           0.000442\n",
       "ID           0.000155\n",
       "IL           0.000382\n",
       "IN           0.000314\n",
       "KS           0.000268\n",
       "KY           0.000286\n",
       "LA           0.000500\n",
       "MA           0.000290\n",
       "MD           0.000336\n",
       "ME           0.000463\n",
       "MI           0.000318\n",
       "MN           0.000292\n",
       "MO           0.000470\n",
       "MS           0.000382\n",
       "MT           0.000123\n",
       "NC           0.000315\n",
       "NE           0.000284\n",
       "NH           0.000442\n",
       "NJ           0.000297\n",
       "NM           0.000097\n",
       "NV           0.000216\n",
       "NY           0.000303\n",
       "OH           0.000279\n",
       "OK           0.000226\n",
       "OR           0.000178\n",
       "PA           0.000280\n",
       "RI           0.000367\n",
       "SC           0.000215\n",
       "SD           0.000137\n",
       "TN           0.000260\n",
       "TX           0.000297\n",
       "UT           0.000247\n",
       "VA           0.000257\n",
       "VT           0.000975\n",
       "WA           0.000216\n",
       "WI           0.000368\n",
       "WV           0.000275\n",
       "WY           0.000246"
      ]
     },
     "execution_count": 429,
     "metadata": {},
     "output_type": "execute_result"
    }
   ],
   "source": [
    "state_penetration"
   ]
  },
  {
   "cell_type": "code",
   "execution_count": 430,
   "metadata": {
    "collapsed": false
   },
   "outputs": [
    {
     "name": "stderr",
     "output_type": "stream",
     "text": [
      "C:\\Anaconda\\envs\\py36\\lib\\site-packages\\ipykernel\\__main__.py:1: FutureWarning: reshape is deprecated and will raise in a subsequent release. Please use .values.reshape(...) instead\n",
      "  if __name__ == '__main__':\n"
     ]
    }
   ],
   "source": [
    "x = state_penetration['mp'].reshape(-1,1)\n",
    "min_max_scaler = preprocessing.MinMaxScaler()\n",
    "x_scaled = min_max_scaler.fit_transform(x)\n",
    "state_penetration['mp_scaled'] = x_scaled"
   ]
  },
  {
   "cell_type": "code",
   "execution_count": 432,
   "metadata": {
    "collapsed": false
   },
   "outputs": [],
   "source": [
    "state_penetration = state_penetration.drop('mp', 1)"
   ]
  },
  {
   "cell_type": "code",
   "execution_count": 433,
   "metadata": {
    "collapsed": true
   },
   "outputs": [],
   "source": [
    "with open('sp.csv', 'w') as f:\n",
    "    state_penetration.to_csv(f)"
   ]
  },
  {
   "cell_type": "code",
   "execution_count": null,
   "metadata": {
    "collapsed": true
   },
   "outputs": [],
   "source": []
  }
 ],
 "metadata": {
  "kernelspec": {
   "display_name": "Python 3",
   "language": "python",
   "name": "python3"
  },
  "language_info": {
   "codemirror_mode": {
    "name": "ipython",
    "version": 3
   },
   "file_extension": ".py",
   "mimetype": "text/x-python",
   "name": "python",
   "nbconvert_exporter": "python",
   "pygments_lexer": "ipython3",
   "version": "3.6.0"
  }
 },
 "nbformat": 4,
 "nbformat_minor": 2
}
